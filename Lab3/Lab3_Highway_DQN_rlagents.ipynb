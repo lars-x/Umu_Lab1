{
  "cells": [
    {
      "cell_type": "markdown",
      "metadata": {
        "colab_type": "text",
        "id": "view-in-github"
      },
      "source": [
        "<a href=\"https://colab.research.google.com/github/lars-x/Umu_Labs/blob/main/Lab3/Lab3_Highway_DQN_rlagents.ipynb\" target=\"_parent\"><img src=\"https://colab.research.google.com/assets/colab-badge.svg\" alt=\"Open In Colab\"/></a>"
      ]
    },
    {
      "cell_type": "markdown",
      "metadata": {
        "id": "KTBW2COTwOg_"
      },
      "source": [
        "Lab3 is based on highway-env https://github.com/eleurent/highway-env. In \n",
        "envs/highway_env.py, the vehicle is rewarded for reaching a high speed, staying on the rightmost lanes and avoiding collisions for in highway driving (highway-env). Your task is to add an additional term to penalize changing lanes. (Ideally we should penalize changing lanes to the left more than changing to the right, but this is a simplified exercise.) Please refer to envs/roundabout_env for reference.\n",
        "\n",
        "Steps:\n",
        "\n",
        "1) Fork the highway-env repository to your own GitHub account, and modify highway_env.py. (if you are not familiar with GitHub, I recommend installing GitHub Desktop https://desktop.github.com.)\n",
        "\n",
        "2) Replace \n",
        "!pip install highway-env \n",
        "with path to your own repository:\n",
        "!pip install git+https://github.com/USERNAME/highway-env\n",
        "\n",
        "3) Train your agent for different values of lane_change_reward, and different environments with varying complexity, starting from the simplest:\n",
        "\n",
        "env.config[\"lane_change_reward\"] = 0\n",
        "\n",
        "env.config[\"vehicles_count\"] = 0\n",
        "\n",
        "env.config[\"lanes_count\"] = 2\n",
        "\n",
        "env.config[\"initial_lane_id\"] = 0\n",
        "\n",
        "In this simple environment, during testing the vehicle should switch to the right lane quickly and stay in the right lane. (It is possible for it to stay in the left lane during testing if your training num_episodes is too small, since the agent may not have had a chance to try the lane change action during training.)\n",
        "Try different values of lane_change_reward (e.g., -0.1, -1, -10, etc. note that it must be negative), and different numbers of vehicles/lanes. Make lane_change_reward very negative until you observe that the vehicle prefers *collision* to *lane change to avoid collision*. Submit your IPython Notebook, and a short report (or text blocks within the Notebook) describing the different configurations you have tried, and your observations for each config, including two configs that differ only in the lane_change_reward, one with no or rare collisions, one with frequent collisions.\n",
        "\n",
        "Notes: \n",
        "\n",
        "1) More complex environments demand more training time (more num_episodes), so do not make your environment more complex than necessary. You may try increasing the  vehicles_density and reward_speed_range to increase the chances of collision. You may also find \"Script to Stop Google Colab From Disconnecting\" to be helpful.\n",
        "\n",
        "2) You may want to tune DQN hyperparams in configs/HighwayEnv/agents/DQNAgent/dqn.json, e.g., discount factor gamma, and epsilon greedy exploration params tau, temperature, final_temperature for different num_episodes.\n",
        "\n",
        "3) The error message \"fatal: destination path 'highway-env' already exists and is not an empty directory\" in the first code cell can be safely ignored.\n"
      ]
    },
    {
      "cell_type": "markdown",
      "metadata": {
        "id": "sepDWoBqdRMK"
      },
      "source": [
        "# Training a DQN on `highway-v0` with rlagents\n",
        "## Import requirements"
      ]
    },
    {
      "cell_type": "code",
      "execution_count": null,
      "metadata": {
        "id": "Kx8X4s8krNWt"
      },
      "outputs": [],
      "source": [
        "# Environment\r\n",
        "#!pip install highway-env\r\n",
        "!pip install git+https://github.com/lars-x/highway-env\r\n",
        "import gym\r\n",
        "import highway_env\r\n",
        "\r\n",
        "# Agent\r\n",
        "!pip install git+https://github.com/eleurent/rl-agents\r\n",
        "\r\n",
        "# Visualisation utils\r\n",
        "import sys\r\n",
        "%load_ext tensorboard\r\n",
        "!pip install tensorboardx gym pyvirtualdisplay\r\n",
        "!apt-get install -y xvfb python-opengl ffmpeg\r\n",
        "!git clone https://github.com/eleurent/highway-env.git\r\n",
        "sys.path.insert(0, '/content/highway-env/scripts/')\r\n",
        "from utils import show_videos"
      ]
    },
    {
      "cell_type": "markdown",
      "metadata": {
        "id": "vvOEW00pdHrG"
      },
      "source": [
        "## Training\n",
        "\n",
        "Prepare environment, agent, and evaluation process.\n"
      ]
    },
    {
      "cell_type": "code",
      "execution_count": null,
      "metadata": {
        "id": "QowKW3ix45ZW"
      },
      "outputs": [],
      "source": [
        "from rl_agents.trainer.evaluation import Evaluation\r\n",
        "from rl_agents.agents.common.factory import load_agent, load_environment\r\n",
        "\r\n",
        "# Get the environment and agent configurations from the rl-agents repository\r\n",
        "!git clone https://github.com/lars-x/rl-agents.git\r\n",
        "%cd /content/rl-agents/scripts/\r\n",
        "env_config = 'configs/HighwayEnv/env.json'\r\n",
        "agent_config = 'configs/HighwayEnv/agents/DQNAgent/dqn.json'\r\n",
        "\r\n",
        "env = load_environment(env_config)\r\n",
        "import pprint\r\n",
        "from matplotlib import pyplot as plt\r\n",
        "env.config[\"lane_change_reward\"] = 0\r\n",
        "env.config[\"vehicles_count\"] = 0\r\n",
        "#env.config['reward_speed_range'] = [0, 100]\r\n",
        "env.config[\"lanes_count\"] = 2\r\n",
        "env.config[\"initial_lane_id\"] = 0\r\n",
        "pprint.pprint(env.config)\r\n",
        "pprint.pprint(agent_config)\r\n",
        "\r\n",
        "env.reset()\r\n",
        "plt.imshow(env.render(mode=\"rgb_array\"))\r\n",
        "plt.show()\r\n",
        "\r\n",
        "agent = load_agent(agent_config, env)\r\n",
        "evaluation = Evaluation(env, agent, num_episodes=10, display_env=False)\r\n",
        "print(f\"Ready to train {agent} on {env}\")"
      ]
    },
    {
      "cell_type": "markdown",
      "metadata": {
        "id": "BtK9dtfb0JMF"
      },
      "source": [
        "Start training. Run tensorboard locally to visualize training."
      ]
    },
    {
      "cell_type": "code",
      "execution_count": null,
      "metadata": {
        "id": "sFVq1gFz42Eg"
      },
      "outputs": [],
      "source": [
        "%tensorboard --logdir \"{evaluation.directory}\"\n",
        "evaluation.train()"
      ]
    },
    {
      "cell_type": "markdown",
      "metadata": {
        "id": "-lNvWg42RWiw"
      },
      "source": [
        "Progress can be visualised in the tensorboard cell above, which should update every 30s (or manually). You may need to click the *Fit domain to data* buttons below each graph."
      ]
    },
    {
      "cell_type": "markdown",
      "metadata": {
        "id": "VKfvu5uhzCIU"
      },
      "source": [
        "## Testing\n",
        "\n",
        "Run the learned policy for a few episodes."
      ]
    },
    {
      "cell_type": "code",
      "execution_count": null,
      "metadata": {
        "id": "gY0rpVYUtRpN"
      },
      "outputs": [],
      "source": [
        "#env = load_environment(env_config)\n",
        "env.configure({\"offscreen_rendering\": True})\n",
        "agent = load_agent(agent_config, env)\n",
        "evaluation = Evaluation(env, agent, num_episodes=3, recover=True)\n",
        "evaluation.test()\n",
        "show_videos(evaluation.run_directory)"
      ]
    }
  ],
  "metadata": {
    "accelerator": "GPU",
    "colab": {
      "collapsed_sections": [],
      "include_colab_link": true,
      "name": "Lab3 Highway DQN rlagents",
      "provenance": []
    },
    "kernelspec": {
      "display_name": "Python 3.8.5 64-bit ('base': conda)",
      "name": "python385jvsc74a57bd0b3ba2566441a7c06988d0923437866b63cedc61552a5af99d1f4fb67d367b25f"
    },
    "language_info": {
      "name": "python",
      "version": ""
    },
    "pycharm": {
      "stem_cell": {
        "cell_type": "raw",
        "metadata": {
          "collapsed": false
        },
        "source": []
      }
    }
  },
  "nbformat": 4,
  "nbformat_minor": 0
}